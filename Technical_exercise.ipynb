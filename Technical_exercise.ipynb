{
 "cells": [
  {
   "cell_type": "markdown",
   "metadata": {
    "_cell_guid": "7fc6d89d-18bf-06ba-dd5f-8b1e1121d8d7"
   },
   "source": [
    "# Objective: evaluate whether campaign goals are met.\n",
    "## Task:  Did new creative increase conversions compared to the baseline creative?\n",
    "#### No, the creative worsened the likelihood of conversion. \n",
    "#### The odds of conversion due to new creative was largely reduced instead of improving.\n"
   ]
  },
  {
   "cell_type": "markdown",
   "metadata": {
    "_cell_guid": "204901e5-78e0-2364-a9a4-f2d1515bb351"
   },
   "source": [
    "# Preparing the data"
   ]
  },
  {
   "cell_type": "markdown",
   "metadata": {
    "_cell_guid": "a9316ec9-299c-f7d5-179b-8fb7d9bfa02e"
   },
   "source": [
    "We will read two flat files that contain the campaign summary results, and desciptive features for the targeted users. Next, some data transformation maybe necessary. Statistical analysis will be performed to compare control to test groups. Some visualization will be performed for exploratory data analysis (EDA). First, load libraries needed to transform and analyze the data."
   ]
  },
  {
   "cell_type": "code",
   "execution_count": 1,
   "metadata": {
    "_cell_guid": "0fa020c4-a7df-64a7-2d8e-4e1081657ba6"
   },
   "outputs": [],
   "source": [
    "## load libraries\n",
    "import pandas as pd # data manipulation\n",
    "import seaborn as sns # data visualization\n",
    "import numpy as np # data analysis\n",
    "import matplotlib.pyplot as plt # data visualization\n",
    "import scipy.stats as stats # statistical test\n",
    "# produce plots\n",
    "%matplotlib inline \n",
    "# set plotting style\n",
    "plt.style.use('bmh')"
   ]
  },
  {
   "cell_type": "code",
   "execution_count": 2,
   "metadata": {},
   "outputs": [],
   "source": [
    "# reading in the flat files\n",
    "# for bid_requests\n",
    "bid_requests = pd.read_csv('bid_requests.csv')\n",
    "# for user_attributes.csv \n",
    "user_attributes = pd.read_csv('user_attributes.csv')"
   ]
  },
  {
   "cell_type": "markdown",
   "metadata": {},
   "source": [
    "Take a look at the header if columns need re-formatting."
   ]
  },
  {
   "cell_type": "code",
   "execution_count": 3,
   "metadata": {},
   "outputs": [
    {
     "data": {
      "text/html": [
       "<div>\n",
       "<style scoped>\n",
       "    .dataframe tbody tr th:only-of-type {\n",
       "        vertical-align: middle;\n",
       "    }\n",
       "\n",
       "    .dataframe tbody tr th {\n",
       "        vertical-align: top;\n",
       "    }\n",
       "\n",
       "    .dataframe thead th {\n",
       "        text-align: right;\n",
       "    }\n",
       "</style>\n",
       "<table border=\"1\" class=\"dataframe\">\n",
       "  <thead>\n",
       "    <tr style=\"text-align: right;\">\n",
       "      <th></th>\n",
       "      <th>timestamp</th>\n",
       "      <th>user_id</th>\n",
       "      <th>bid</th>\n",
       "      <th>win</th>\n",
       "      <th>conversion</th>\n",
       "    </tr>\n",
       "  </thead>\n",
       "  <tbody>\n",
       "    <tr>\n",
       "      <th>0</th>\n",
       "      <td>1/1/2017 0:00</td>\n",
       "      <td>be7485be5b6eb3690efcbc9e95e8f15a</td>\n",
       "      <td>0</td>\n",
       "      <td>0</td>\n",
       "      <td>0</td>\n",
       "    </tr>\n",
       "    <tr>\n",
       "      <th>1</th>\n",
       "      <td>1/1/2017 0:00</td>\n",
       "      <td>26c5dca2512a4c7fe8810bd04191b1b3</td>\n",
       "      <td>0</td>\n",
       "      <td>0</td>\n",
       "      <td>0</td>\n",
       "    </tr>\n",
       "    <tr>\n",
       "      <th>2</th>\n",
       "      <td>1/1/2017 0:00</td>\n",
       "      <td>2121376a323507c01c5e92c39ae8ccd4</td>\n",
       "      <td>0</td>\n",
       "      <td>0</td>\n",
       "      <td>0</td>\n",
       "    </tr>\n",
       "    <tr>\n",
       "      <th>3</th>\n",
       "      <td>1/1/2017 0:00</td>\n",
       "      <td>fa6a0925d911185338b0acc93c66dc92</td>\n",
       "      <td>0</td>\n",
       "      <td>0</td>\n",
       "      <td>0</td>\n",
       "    </tr>\n",
       "    <tr>\n",
       "      <th>4</th>\n",
       "      <td>1/1/2017 0:00</td>\n",
       "      <td>4299f209da83da82b711f1d631cc607b</td>\n",
       "      <td>1</td>\n",
       "      <td>0</td>\n",
       "      <td>0</td>\n",
       "    </tr>\n",
       "  </tbody>\n",
       "</table>\n",
       "</div>"
      ],
      "text/plain": [
       "       timestamp                           user_id  bid  win  conversion\n",
       "0  1/1/2017 0:00  be7485be5b6eb3690efcbc9e95e8f15a    0    0           0\n",
       "1  1/1/2017 0:00  26c5dca2512a4c7fe8810bd04191b1b3    0    0           0\n",
       "2  1/1/2017 0:00  2121376a323507c01c5e92c39ae8ccd4    0    0           0\n",
       "3  1/1/2017 0:00  fa6a0925d911185338b0acc93c66dc92    0    0           0\n",
       "4  1/1/2017 0:00  4299f209da83da82b711f1d631cc607b    1    0           0"
      ]
     },
     "execution_count": 3,
     "metadata": {},
     "output_type": "execute_result"
    }
   ],
   "source": [
    "bid_requests.head()"
   ]
  },
  {
   "cell_type": "code",
   "execution_count": 4,
   "metadata": {},
   "outputs": [
    {
     "data": {
      "text/html": [
       "<div>\n",
       "<style scoped>\n",
       "    .dataframe tbody tr th:only-of-type {\n",
       "        vertical-align: middle;\n",
       "    }\n",
       "\n",
       "    .dataframe tbody tr th {\n",
       "        vertical-align: top;\n",
       "    }\n",
       "\n",
       "    .dataframe thead th {\n",
       "        text-align: right;\n",
       "    }\n",
       "</style>\n",
       "<table border=\"1\" class=\"dataframe\">\n",
       "  <thead>\n",
       "    <tr style=\"text-align: right;\">\n",
       "      <th></th>\n",
       "      <th>user_id</th>\n",
       "      <th>attributes</th>\n",
       "    </tr>\n",
       "  </thead>\n",
       "  <tbody>\n",
       "    <tr>\n",
       "      <th>0</th>\n",
       "      <td>00003e3b9e5336685200ae85d21b4f5e</td>\n",
       "      <td>{\"age\": 33, \"gender\": \"F\", \"location\": \"FL\", \"...</td>\n",
       "    </tr>\n",
       "    <tr>\n",
       "      <th>1</th>\n",
       "      <td>000053b1e684c9e7ea73727b2238ce18</td>\n",
       "      <td>{\"age\": 26, \"gender\": \"M\", \"location\": \"AL\", \"...</td>\n",
       "    </tr>\n",
       "    <tr>\n",
       "      <th>2</th>\n",
       "      <td>00029153d12ae1c9abe59c17ff2e0895</td>\n",
       "      <td>{\"age\": 29, \"gender\": \"F\", \"location\": \"AR\", \"...</td>\n",
       "    </tr>\n",
       "    <tr>\n",
       "      <th>3</th>\n",
       "      <td>0002ac0d783338cfeab0b2bdbd872cda</td>\n",
       "      <td>{\"age\": 29, \"gender\": \"M\", \"location\": \"SC\", \"...</td>\n",
       "    </tr>\n",
       "    <tr>\n",
       "      <th>4</th>\n",
       "      <td>0004d0b59e19461ff126e3a08a814c33</td>\n",
       "      <td>{\"age\": 27, \"gender\": \"F\", \"location\": \"AR\", \"...</td>\n",
       "    </tr>\n",
       "  </tbody>\n",
       "</table>\n",
       "</div>"
      ],
      "text/plain": [
       "                            user_id  \\\n",
       "0  00003e3b9e5336685200ae85d21b4f5e   \n",
       "1  000053b1e684c9e7ea73727b2238ce18   \n",
       "2  00029153d12ae1c9abe59c17ff2e0895   \n",
       "3  0002ac0d783338cfeab0b2bdbd872cda   \n",
       "4  0004d0b59e19461ff126e3a08a814c33   \n",
       "\n",
       "                                          attributes  \n",
       "0  {\"age\": 33, \"gender\": \"F\", \"location\": \"FL\", \"...  \n",
       "1  {\"age\": 26, \"gender\": \"M\", \"location\": \"AL\", \"...  \n",
       "2  {\"age\": 29, \"gender\": \"F\", \"location\": \"AR\", \"...  \n",
       "3  {\"age\": 29, \"gender\": \"M\", \"location\": \"SC\", \"...  \n",
       "4  {\"age\": 27, \"gender\": \"F\", \"location\": \"AR\", \"...  "
      ]
     },
     "execution_count": 4,
     "metadata": {},
     "output_type": "execute_result"
    }
   ],
   "source": [
    "user_attributes.head()"
   ]
  },
  {
   "cell_type": "markdown",
   "metadata": {},
   "source": [
    "Attributes is in a dictionary-structured string, \n",
    "split it into columns so the attributes can be explicitly used as features, then merge back the split columns to the bid_requests data frame."
   ]
  },
  {
   "cell_type": "code",
   "execution_count": 5,
   "metadata": {},
   "outputs": [
    {
     "data": {
      "text/html": [
       "<div>\n",
       "<style scoped>\n",
       "    .dataframe tbody tr th:only-of-type {\n",
       "        vertical-align: middle;\n",
       "    }\n",
       "\n",
       "    .dataframe tbody tr th {\n",
       "        vertical-align: top;\n",
       "    }\n",
       "\n",
       "    .dataframe thead th {\n",
       "        text-align: right;\n",
       "    }\n",
       "</style>\n",
       "<table border=\"1\" class=\"dataframe\">\n",
       "  <thead>\n",
       "    <tr style=\"text-align: right;\">\n",
       "      <th></th>\n",
       "      <th>timestamp</th>\n",
       "      <th>user_id</th>\n",
       "      <th>bid</th>\n",
       "      <th>win</th>\n",
       "      <th>conversion</th>\n",
       "      <th>age</th>\n",
       "      <th>gender</th>\n",
       "      <th>location</th>\n",
       "      <th>test</th>\n",
       "    </tr>\n",
       "  </thead>\n",
       "  <tbody>\n",
       "    <tr>\n",
       "      <th>0</th>\n",
       "      <td>1/1/2017 0:00</td>\n",
       "      <td>be7485be5b6eb3690efcbc9e95e8f15a</td>\n",
       "      <td>0</td>\n",
       "      <td>0</td>\n",
       "      <td>0</td>\n",
       "      <td>25</td>\n",
       "      <td>M</td>\n",
       "      <td>TN</td>\n",
       "      <td>1</td>\n",
       "    </tr>\n",
       "    <tr>\n",
       "      <th>1</th>\n",
       "      <td>1/1/2017 15:39</td>\n",
       "      <td>be7485be5b6eb3690efcbc9e95e8f15a</td>\n",
       "      <td>0</td>\n",
       "      <td>0</td>\n",
       "      <td>0</td>\n",
       "      <td>25</td>\n",
       "      <td>M</td>\n",
       "      <td>TN</td>\n",
       "      <td>1</td>\n",
       "    </tr>\n",
       "    <tr>\n",
       "      <th>2</th>\n",
       "      <td>1/1/2017 18:44</td>\n",
       "      <td>be7485be5b6eb3690efcbc9e95e8f15a</td>\n",
       "      <td>0</td>\n",
       "      <td>0</td>\n",
       "      <td>0</td>\n",
       "      <td>25</td>\n",
       "      <td>M</td>\n",
       "      <td>TN</td>\n",
       "      <td>1</td>\n",
       "    </tr>\n",
       "    <tr>\n",
       "      <th>3</th>\n",
       "      <td>1/2/2017 8:55</td>\n",
       "      <td>be7485be5b6eb3690efcbc9e95e8f15a</td>\n",
       "      <td>1</td>\n",
       "      <td>1</td>\n",
       "      <td>0</td>\n",
       "      <td>25</td>\n",
       "      <td>M</td>\n",
       "      <td>TN</td>\n",
       "      <td>1</td>\n",
       "    </tr>\n",
       "    <tr>\n",
       "      <th>4</th>\n",
       "      <td>1/2/2017 13:10</td>\n",
       "      <td>be7485be5b6eb3690efcbc9e95e8f15a</td>\n",
       "      <td>0</td>\n",
       "      <td>0</td>\n",
       "      <td>0</td>\n",
       "      <td>25</td>\n",
       "      <td>M</td>\n",
       "      <td>TN</td>\n",
       "      <td>1</td>\n",
       "    </tr>\n",
       "  </tbody>\n",
       "</table>\n",
       "</div>"
      ],
      "text/plain": [
       "        timestamp                           user_id  bid  win  conversion  \\\n",
       "0   1/1/2017 0:00  be7485be5b6eb3690efcbc9e95e8f15a    0    0           0   \n",
       "1  1/1/2017 15:39  be7485be5b6eb3690efcbc9e95e8f15a    0    0           0   \n",
       "2  1/1/2017 18:44  be7485be5b6eb3690efcbc9e95e8f15a    0    0           0   \n",
       "3   1/2/2017 8:55  be7485be5b6eb3690efcbc9e95e8f15a    1    1           0   \n",
       "4  1/2/2017 13:10  be7485be5b6eb3690efcbc9e95e8f15a    0    0           0   \n",
       "\n",
       "   age gender location  test  \n",
       "0   25      M       TN     1  \n",
       "1   25      M       TN     1  \n",
       "2   25      M       TN     1  \n",
       "3   25      M       TN     1  \n",
       "4   25      M       TN     1  "
      ]
     },
     "execution_count": 5,
     "metadata": {},
     "output_type": "execute_result"
    }
   ],
   "source": [
    "# split it into columns so the attributes can be explicitly used as features\n",
    "user_attributes = pd.concat([user_attributes, #concatenate to the original df user_attributes \n",
    "                      pd.DataFrame(list(user_attributes.attributes.map(eval)))], #the extracted attributes from dictionary\n",
    "                            axis = 1) # to columns\n",
    "# map the user features to the bid requests by joining the data frames on user_id\n",
    "bid_requests_attributes = pd.merge(bid_requests, user_attributes,  # join the data frames\n",
    "                                       on = 'user_id').drop(columns = 'attributes') # on user_id, and drop the attributes\n",
    "bid_requests_attributes.head()"
   ]
  },
  {
   "cell_type": "markdown",
   "metadata": {},
   "source": [
    "Let us look at the distribution of requests, and perform relevant exploratory data analysis (EDA). "
   ]
  },
  {
   "cell_type": "code",
   "execution_count": 6,
   "metadata": {},
   "outputs": [
    {
     "data": {
      "image/png": "[encoded data removed]",
      "text/plain": [
       "<Figure size 504x432 with 1 Axes>"
      ]
     },
     "metadata": {},
     "output_type": "display_data"
    }
   ],
   "source": [
    "# plotting with seaborn\n",
    "sns.set_style(\"white\") # white background for contrast\n",
    "plt.figure(figsize=(7, 6)) # adjust figure size\n",
    "# Plot a filled kernel density estimate\n",
    "x = sns.distplot(bid_requests_attributes['user_id'].value_counts(), \n",
    "                 hist=False, color=\"g\", kde_kws={\"shade\": True})\n",
    "x.set(xlabel='requests per user', ylabel='density');  # adjust label name\n"
   ]
  },
  {
   "cell_type": "markdown",
   "metadata": {},
   "source": [
    "This is a positive-skew distribution, which means the mean is higher than the median."
   ]
  },
  {
   "cell_type": "markdown",
   "metadata": {},
   "source": [
    "Let us assess whether there is an enrichment of conversion in the test group compared to control. Since we are comparing counts, we can use the Fischer exact test. Our target variable is the user_id, so we need to add segment that column by conversion and testing. The criterion for conversion is that there is at least one conversion event. "
   ]
  },
  {
   "cell_type": "code",
   "execution_count": 8,
   "metadata": {},
   "outputs": [],
   "source": [
    "# only keep the won bids\n",
    "bid_requests_attributes_won = bid_requests_attributes[bid_requests_attributes['win'] == 1]\n",
    "# make the conversion to customer_id one-to-one relationship\n",
    "bid_requests_attributes_won_sorted = bid_requests_attributes_won.sort_values(by = ['user_id','conversion'], \n",
    "                                        ascending= [False, False]).drop_duplicates(subset = 'user_id', keep = 'first')"
   ]
  },
  {
   "cell_type": "code",
   "execution_count": 17,
   "metadata": {},
   "outputs": [
    {
     "data": {
      "text/plain": [
       "<bound method IndexOpsMixin.nunique of 349641    ffed58af1486d55983158acee38bdea2\n",
       "583123    ffd8c24f180b4ba8a2bc58a6c81c7210\n",
       "463196    ffcf3174be79160cd4f3eb50bc76d034\n",
       "384230    ffc937399e9985e3399dbff1e4f6fd96\n",
       "208662    ffafba921b7b509985a9ab639d63ffd4\n",
       "                        ...               \n",
       "101873    003da94355a506f1f294090c173e7b73\n",
       "411125    003bed21fddc817050c8fa11897fe660\n",
       "444747    003ae4e8b9f59b0aa0910ba1f5e35735\n",
       "513042    002572981e2eebd53b48809982cd3684\n",
       "368918    0007cda84fafdcf42f96c4f4adb7f8ce\n",
       "Name: user_id, Length: 5607, dtype: object>"
      ]
     },
     "execution_count": 17,
     "metadata": {},
     "output_type": "execute_result"
    }
   ],
   "source": [
    "bid_requests_attributes_won_sorted[(bid_requests_attributes_won_sorted.conversion) ==1].user_id.nunique"
   ]
  },
  {
   "cell_type": "code",
   "execution_count": 45,
   "metadata": {
    "_cell_guid": "70822305-7ac8-b538-f650-15b95dec7366"
   },
   "outputs": [],
   "source": [
    "# only keep the won bids\n",
    "bid_requests_attributes_won = bid_requests_attributes[bid_requests_attributes['win'] == 1]# make the\n",
    "#conversion to customer_id one-to-one relationship\n",
    "bid_requests_attributes_won_sorted = bid_requests_attributes_won.sort_values(by = ['user_id','conversion'], \n",
    "                                        ascending= [False, False]).drop_duplicates(subset = 'user_id', keep = 'first')\n",
    "# get the test/conversion 2X2 array combinations\n",
    "\n",
    "# conversion = 1, test = 1\n",
    "con_test = bid_requests_attributes_won[(bid_requests_attributes_won['conversion'] == 1) & (\n",
    "                                                  bid_requests_attributes_won['test'] == 1)].user_id.nunique()\n",
    "# conversion = 0, test = 1\n",
    "nocon_test = bid_requests_attributes_won[(bid_requests_attributes_won['conversion'] == 0)&(\n",
    "                                                    bid_requests_attributes_won['test'] == 1)].user_id.nunique()\n",
    "# conversion = 1, test = 0\n",
    "con_notest = bid_requests_attributes_won[(bid_requests_attributes_won['conversion'] == 0)&(\n",
    "                                                    bid_requests_attributes_won['test'] == 1)].user_id.nunique()\n",
    "# conversion = 1, test = 0\n",
    "nocon_notest = bid_requests_attributes_won[(bid_requests_attributes_won['conversion'] == 0) &(\n",
    "                                                      bid_requests_attributes_won['test'] == 0)].user_id.nunique()\n"
   ]
  },
  {
   "cell_type": "code",
   "execution_count": 46,
   "metadata": {},
   "outputs": [
    {
     "name": "stdout",
     "output_type": "stream",
     "text": [
      "not tested and not converted 23096\n",
      "not tested and converted 29716\n",
      "tested and converted 3112\n",
      "tested and not converted 29716\n"
     ]
    }
   ],
   "source": [
    "print(\"not tested and not converted\", nocon_notest)\n",
    "print(\"not tested and converted\", con_notest)\n",
    "print(\"tested and converted\", con_test)\n",
    "print(\"tested and not converted\", con_notest)"
   ]
  },
  {
   "cell_type": "code",
   "execution_count": 47,
   "metadata": {},
   "outputs": [
    {
     "data": {
      "image/png": "[encoded data removed]",
      "text/plain": [
       "<Figure size 432x288 with 1 Axes>"
      ]
     },
     "metadata": {},
     "output_type": "display_data"
    },
    {
     "data": {
      "image/png": "[encoded data removed]",
      "text/plain": [
       "<Figure size 432x288 with 1 Axes>"
      ]
     },
     "metadata": {},
     "output_type": "display_data"
    }
   ],
   "source": [
    "# Pie chart, where the slices will be ordered and plotted counter-clockwise:\n",
    "labels_not = 'not tested and not converted', 'not tested and converted'\n",
    "sizes_not = [nocon_notest, con_notest]\n",
    "explode_not = (0.1, 0)  # only \"explode\" the 2nd slice (i.e. 'Hogs')\n",
    "\n",
    "labels = 'tested and not converted', 'tested and converted'\n",
    "sizes = [nocon_test, con_test]\n",
    "explode = (0.1, 0)  # only \"explode\" the 2nd slice (i.e. 'Hogs')\n",
    "\n",
    "fig1, ax1 = plt.subplots()\n",
    "fig2, ax2 = plt.subplots()\n",
    "\n",
    "ax1.pie(sizes_not, explode=explode_not, labels=labels_not, autopct='%1.1f%%',\n",
    "        shadow=True, startangle=90)\n",
    "ax1.axis('equal')  # Equal aspect ratio ensures that pie is drawn as a circle.\n",
    "\n",
    "ax2.pie(sizes, explode=explode, labels=labels, autopct='%1.1f%%',\n",
    "        shadow=True, startangle=90)\n",
    "ax2.axis('equal')  # Equal aspect ratio ensures that pie is drawn as a circle.\n",
    "\n",
    "\n",
    "plt.show()\n",
    "plt.show()"
   ]
  },
  {
   "cell_type": "code",
   "execution_count": 48,
   "metadata": {},
   "outputs": [
    {
     "name": "stdout",
     "output_type": "stream",
     "text": [
      "oddsratio 0.08139461248090031\n",
      "pvalue 0.0\n"
     ]
    }
   ],
   "source": [
    "# Apply Fischer's exact test to get an estimate of enrichment in conversion due to new creative\n",
    "oddsratio, pvalue = stats.fisher_exact([ [nocon_notest, con_notest],[nocon_test, con_test]])\n",
    "\n",
    "print(\"oddsratio\", oddsratio)\n",
    "print(\"pvalue\", pvalue)\n"
   ]
  },
  {
   "cell_type": "markdown",
   "metadata": {},
   "source": [
    "oddsratio << 1, overall the creative seems not to work. This test is sub-population agnostic. The next of anlaysis would be to test if the creative was specifically effective within a particular population group."
   ]
  }
 ],
 "metadata": {
  "_change_revision": 2,
  "_is_fork": false,
  "kernelspec": {
   "display_name": "Python 3",
   "language": "python",
   "name": "python3"
  },
  "language_info": {
   "codemirror_mode": {
    "name": "ipython",
    "version": 3
   },
   "file_extension": ".py",
   "mimetype": "text/x-python",
   "name": "python",
   "nbconvert_exporter": "python",
   "pygments_lexer": "ipython3",
   "version": "3.6.6"
  }
 },
 "nbformat": 4,
 "nbformat_minor": 1
}
